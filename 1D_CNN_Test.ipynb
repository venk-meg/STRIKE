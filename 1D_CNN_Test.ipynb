{
  "nbformat": 4,
  "nbformat_minor": 0,
  "metadata": {
    "colab": {
      "provenance": [],
      "authorship_tag": "ABX9TyOViwRNkR10FJpOloJgpKWf",
      "include_colab_link": true
    },
    "kernelspec": {
      "name": "python3",
      "display_name": "Python 3"
    },
    "language_info": {
      "name": "python"
    }
  },
  "cells": [
    {
      "cell_type": "markdown",
      "metadata": {
        "id": "view-in-github",
        "colab_type": "text"
      },
      "source": [
        "<a href=\"https://colab.research.google.com/github/venk-meg/STRIKE/blob/main/1D_CNN_Test.ipynb\" target=\"_parent\"><img src=\"https://colab.research.google.com/assets/colab-badge.svg\" alt=\"Open In Colab\"/></a>"
      ]
    },
    {
      "cell_type": "code",
      "execution_count": 7,
      "metadata": {
        "colab": {
          "base_uri": "https://localhost:8080/"
        },
        "id": "MpcRxT00MPdV",
        "outputId": "2b83069d-3413-425f-f710-36d6a1ac134d"
      },
      "outputs": [
        {
          "output_type": "stream",
          "name": "stdout",
          "text": [
            "Cloning into 'STRIKE'...\n",
            "remote: Enumerating objects: 395, done.\u001b[K\n",
            "remote: Counting objects: 100% (118/118), done.\u001b[K\n",
            "remote: Compressing objects: 100% (118/118), done.\u001b[K\n",
            "remote: Total 395 (delta 24), reused 0 (delta 0), pack-reused 277 (from 2)\u001b[K\n",
            "Receiving objects: 100% (395/395), 2.81 MiB | 15.01 MiB/s, done.\n",
            "Resolving deltas: 100% (156/156), done.\n",
            "/content/STRIKE/STRIKE\n"
          ]
        }
      ],
      "source": [
        "# Clone and move into repo\n",
        "!git clone https://github.com/venk-meg/STRIKE.git\n",
        "%cd STRIKE\n"
      ]
    },
    {
      "cell_type": "markdown",
      "source": [
        "# Data Prep"
      ],
      "metadata": {
        "id": "y1kMR3KbMoO1"
      }
    },
    {
      "cell_type": "code",
      "source": [
        "import os\n",
        "import numpy as np\n",
        "import pandas as pd\n",
        "from sklearn.model_selection import train_test_split\n",
        "from sklearn.preprocessing import LabelEncoder\n",
        "from tensorflow.keras.utils import to_categorical\n",
        "\n",
        "# Load data\n",
        "data_path = \"data_ml/\"\n",
        "gestures = os.listdir(data_path)\n",
        "\n",
        "X = []\n",
        "y = []\n",
        "\n",
        "# Load and format each gesture sample\n",
        "for gesture in gestures:\n",
        "    gesture_path = os.path.join(data_path, gesture)\n",
        "    if not os.path.isdir(gesture_path):\n",
        "        continue\n",
        "\n",
        "    for file in os.listdir(gesture_path):\n",
        "        if file.endswith(\".csv\") and not file.startswith(\"trial_\"):\n",
        "            df = pd.read_csv(os.path.join(gesture_path, file))\n",
        "\n",
        "            # Drop timestamp\n",
        "            if 'timestamp' in df.columns:\n",
        "                df = df.drop(columns=['timestamp'])\n",
        "\n",
        "            data = df.to_numpy()\n",
        "\n",
        "            # Sample length check --> as CNNs require all samples to be the same length. Truncate or pad if lengths are not the same.\n",
        "            # HARDCODED 217 for now\n",
        "            if data.shape[0] < 217:\n",
        "              padding = np.zeros((217 - data.shape[0], data.shape[1]))\n",
        "              data = np.vstack([data, padding])\n",
        "\n",
        "            elif data.shape[0] > 217:\n",
        "              data = data[:217, :]  # Truncate\n",
        "\n",
        "\n",
        "            X.append(data)\n",
        "            y.append(gesture)\n",
        "\n",
        "# Convert to arrays\n",
        "X = np.array(X)  # (samples, timesteps, channels)\n",
        "y = np.array(y)\n",
        "\n",
        "# Encode labels\n",
        "label_encoder = LabelEncoder()\n",
        "y_encoded = label_encoder.fit_transform(y)\n",
        "y_categorical = to_categorical(y_encoded)\n",
        "\n",
        "# Split\n",
        "X_train, X_test, y_train, y_test = train_test_split(\n",
        "    X, y_categorical, test_size=0.3, stratify=y_encoded, random_state=42\n",
        ")\n",
        "\n",
        "print(\"X shape:\", X_train.shape)\n",
        "print(\"y shape (one-hot):\", y_train.shape)\n",
        "print(\"Classes:\", label_encoder.classes_)\n"
      ],
      "metadata": {
        "colab": {
          "base_uri": "https://localhost:8080/"
        },
        "id": "qoeJ-cvxMsHj",
        "outputId": "9b8f9b82-ca9f-459b-9825-ba447c730758"
      },
      "execution_count": 8,
      "outputs": [
        {
          "output_type": "stream",
          "name": "stdout",
          "text": [
            "X shape: (91, 217, 19)\n",
            "y shape (one-hot): (91, 7)\n",
            "Classes: ['deleterecording' 'listen' 'makefist' 'nextrecording' 'releasefist'\n",
            " 'selectend' 'slice']\n"
          ]
        }
      ]
    },
    {
      "cell_type": "markdown",
      "source": [
        "# Build and train CNN"
      ],
      "metadata": {
        "id": "55mSHW1UOIIy"
      }
    },
    {
      "cell_type": "code",
      "source": [
        "from tensorflow.keras.models import Sequential\n",
        "from tensorflow.keras.layers import Conv1D, MaxPooling1D, Flatten, Dense, Dropout, BatchNormalization\n",
        "from tensorflow.keras.callbacks import EarlyStopping\n",
        "\n",
        "# Build model\n",
        "model = Sequential([\n",
        "    Conv1D(64, kernel_size=3, activation='relu', input_shape=X_train.shape[1:]),\n",
        "    MaxPooling1D(2),\n",
        "    BatchNormalization(),\n",
        "\n",
        "    Conv1D(128, kernel_size=3, activation='relu'),\n",
        "    MaxPooling1D(2),\n",
        "    BatchNormalization(),\n",
        "\n",
        "    Flatten(),\n",
        "    Dense(128, activation='relu'),\n",
        "    Dropout(0.3),\n",
        "    Dense(y_train.shape[1], activation='softmax')  # softmax for multi-class\n",
        "])\n",
        "\n",
        "model.compile(optimizer='adam', loss='categorical_crossentropy', metrics=['accuracy'])\n",
        "\n",
        "# Train\n",
        "history = model.fit(\n",
        "    X_train, y_train,\n",
        "    validation_data=(X_test, y_test),\n",
        "    epochs=30,\n",
        "    batch_size=8,\n",
        "    callbacks=[EarlyStopping(patience=5, restore_best_weights=True)]\n",
        ")\n"
      ],
      "metadata": {
        "colab": {
          "base_uri": "https://localhost:8080/"
        },
        "id": "r5Pa8mCQOKtW",
        "outputId": "6122397b-f456-4923-d56d-8a7ac311b670"
      },
      "execution_count": 9,
      "outputs": [
        {
          "output_type": "stream",
          "name": "stdout",
          "text": [
            "Epoch 1/30\n"
          ]
        },
        {
          "output_type": "stream",
          "name": "stderr",
          "text": [
            "/usr/local/lib/python3.11/dist-packages/keras/src/layers/convolutional/base_conv.py:107: UserWarning: Do not pass an `input_shape`/`input_dim` argument to a layer. When using Sequential models, prefer using an `Input(shape)` object as the first layer in the model instead.\n",
            "  super().__init__(activity_regularizer=activity_regularizer, **kwargs)\n"
          ]
        },
        {
          "output_type": "stream",
          "name": "stdout",
          "text": [
            "\u001b[1m12/12\u001b[0m \u001b[32m━━━━━━━━━━━━━━━━━━━━\u001b[0m\u001b[37m\u001b[0m \u001b[1m4s\u001b[0m 87ms/step - accuracy: 0.5389 - loss: 1.8642 - val_accuracy: 0.7000 - val_loss: 2.2555\n",
            "Epoch 2/30\n",
            "\u001b[1m12/12\u001b[0m \u001b[32m━━━━━━━━━━━━━━━━━━━━\u001b[0m\u001b[37m\u001b[0m \u001b[1m1s\u001b[0m 30ms/step - accuracy: 0.8943 - loss: 0.6142 - val_accuracy: 0.8000 - val_loss: 1.2731\n",
            "Epoch 3/30\n",
            "\u001b[1m12/12\u001b[0m \u001b[32m━━━━━━━━━━━━━━━━━━━━\u001b[0m\u001b[37m\u001b[0m \u001b[1m1s\u001b[0m 33ms/step - accuracy: 0.8907 - loss: 0.5067 - val_accuracy: 0.8750 - val_loss: 0.8897\n",
            "Epoch 4/30\n",
            "\u001b[1m12/12\u001b[0m \u001b[32m━━━━━━━━━━━━━━━━━━━━\u001b[0m\u001b[37m\u001b[0m \u001b[1m1s\u001b[0m 43ms/step - accuracy: 0.9539 - loss: 0.3534 - val_accuracy: 0.8500 - val_loss: 0.7153\n",
            "Epoch 5/30\n",
            "\u001b[1m12/12\u001b[0m \u001b[32m━━━━━━━━━━━━━━━━━━━━\u001b[0m\u001b[37m\u001b[0m \u001b[1m1s\u001b[0m 52ms/step - accuracy: 0.9310 - loss: 0.3795 - val_accuracy: 0.9500 - val_loss: 0.5368\n",
            "Epoch 6/30\n",
            "\u001b[1m12/12\u001b[0m \u001b[32m━━━━━━━━━━━━━━━━━━━━\u001b[0m\u001b[37m\u001b[0m \u001b[1m1s\u001b[0m 48ms/step - accuracy: 0.9800 - loss: 0.1269 - val_accuracy: 0.9750 - val_loss: 0.1902\n",
            "Epoch 7/30\n",
            "\u001b[1m12/12\u001b[0m \u001b[32m━━━━━━━━━━━━━━━━━━━━\u001b[0m\u001b[37m\u001b[0m \u001b[1m1s\u001b[0m 53ms/step - accuracy: 0.9521 - loss: 0.1654 - val_accuracy: 0.9750 - val_loss: 0.3757\n",
            "Epoch 8/30\n",
            "\u001b[1m12/12\u001b[0m \u001b[32m━━━━━━━━━━━━━━━━━━━━\u001b[0m\u001b[37m\u001b[0m \u001b[1m1s\u001b[0m 41ms/step - accuracy: 0.9954 - loss: 0.0064 - val_accuracy: 0.8250 - val_loss: 0.8556\n",
            "Epoch 9/30\n",
            "\u001b[1m12/12\u001b[0m \u001b[32m━━━━━━━━━━━━━━━━━━━━\u001b[0m\u001b[37m\u001b[0m \u001b[1m1s\u001b[0m 48ms/step - accuracy: 0.9778 - loss: 0.0945 - val_accuracy: 0.9500 - val_loss: 0.4734\n",
            "Epoch 10/30\n",
            "\u001b[1m12/12\u001b[0m \u001b[32m━━━━━━━━━━━━━━━━━━━━\u001b[0m\u001b[37m\u001b[0m \u001b[1m0s\u001b[0m 33ms/step - accuracy: 0.9791 - loss: 0.0761 - val_accuracy: 0.9000 - val_loss: 0.7207\n",
            "Epoch 11/30\n",
            "\u001b[1m12/12\u001b[0m \u001b[32m━━━━━━━━━━━━━━━━━━━━\u001b[0m\u001b[37m\u001b[0m \u001b[1m0s\u001b[0m 35ms/step - accuracy: 0.9734 - loss: 0.2060 - val_accuracy: 0.9750 - val_loss: 0.3330\n"
          ]
        }
      ]
    },
    {
      "cell_type": "markdown",
      "source": [
        "# Evaluate"
      ],
      "metadata": {
        "id": "oI7rIAiAOVLL"
      }
    },
    {
      "cell_type": "code",
      "source": [
        "from sklearn.metrics import classification_report, confusion_matrix\n",
        "import seaborn as sns\n",
        "import matplotlib.pyplot as plt\n",
        "\n",
        "# Predict\n",
        "y_pred = model.predict(X_test)\n",
        "y_pred_classes = np.argmax(y_pred, axis=1)\n",
        "y_true_classes = np.argmax(y_test, axis=1)\n",
        "\n",
        "# Report\n",
        "print(\"\\n📄 Classification Report:\")\n",
        "print(classification_report(y_true_classes, y_pred_classes, target_names=label_encoder.classes_))\n",
        "\n",
        "# Confusion matrix\n",
        "cm = confusion_matrix(y_true_classes, y_pred_classes)\n",
        "plt.figure(figsize=(10, 6))\n",
        "sns.heatmap(cm, annot=True, fmt=\"d\", xticklabels=label_encoder.classes_, yticklabels=label_encoder.classes_, cmap=\"Blues\")\n",
        "plt.xlabel(\"Predicted\")\n",
        "plt.ylabel(\"Actual\")\n",
        "plt.title(\"Confusion Matrix — 1D CNN\")\n",
        "plt.tight_layout()\n",
        "plt.show()\n"
      ],
      "metadata": {
        "colab": {
          "base_uri": "https://localhost:8080/",
          "height": 911
        },
        "id": "JAo7eNMuOUqn",
        "outputId": "2ea7a1c7-07f1-48f1-cd69-be0a86001fa8"
      },
      "execution_count": 10,
      "outputs": [
        {
          "output_type": "stream",
          "name": "stdout",
          "text": [
            "\u001b[1m2/2\u001b[0m \u001b[32m━━━━━━━━━━━━━━━━━━━━\u001b[0m\u001b[37m\u001b[0m \u001b[1m0s\u001b[0m 143ms/step\n",
            "\n",
            "📄 Classification Report:\n",
            "                 precision    recall  f1-score   support\n",
            "\n",
            "deleterecording       1.00      1.00      1.00         4\n",
            "         listen       1.00      0.83      0.91         6\n",
            "       makefist       1.00      1.00      1.00         6\n",
            "  nextrecording       0.86      1.00      0.92         6\n",
            "    releasefist       1.00      1.00      1.00         6\n",
            "      selectend       1.00      1.00      1.00         6\n",
            "          slice       1.00      1.00      1.00         6\n",
            "\n",
            "       accuracy                           0.97        40\n",
            "      macro avg       0.98      0.98      0.98        40\n",
            "   weighted avg       0.98      0.97      0.97        40\n",
            "\n"
          ]
        },
        {
          "output_type": "display_data",
          "data": {
            "text/plain": [
              "<Figure size 1000x600 with 2 Axes>"
            ],
            "image/png": "[encoded data removed]"
          },
          "metadata": {}
        }
      ]
    },
    {
      "cell_type": "markdown",
      "source": [
        "## Saving trained model as a tensorflow lite model"
      ],
      "metadata": {
        "id": "7ayFbE76mFUW"
      }
    },
    {
      "cell_type": "code",
      "source": [
        "import tensorflow as tf\n",
        "\n",
        "# Convert the model to TensorFlow Lite format\n",
        "converter = tf.lite.TFLiteConverter.from_keras_model(model)\n",
        "\n",
        "# Optimize for size (8-bit quantization)\n",
        "converter.optimizations = [tf.lite.Optimize.DEFAULT]\n",
        "\n",
        "# You can optionally specify representative data if needed\n",
        "# but for most use cases on microcontrollers, DEFAULT works\n",
        "\n",
        "tflite_model = converter.convert()\n",
        "\n",
        "# Save the TFLite model to file\n",
        "tflite_model_path = \"gesture_model_quantized.tflite\"\n",
        "with open(tflite_model_path, \"wb\") as f:\n",
        "    f.write(tflite_model)\n",
        "\n",
        "print(f\"\\n✅ Saved TensorFlow Lite model to: {tflite_model_path}\")\n"
      ],
      "metadata": {
        "colab": {
          "base_uri": "https://localhost:8080/"
        },
        "id": "TNnExEKsmFlh",
        "outputId": "3aded604-5821-486f-b828-122471037e61"
      },
      "execution_count": 11,
      "outputs": [
        {
          "output_type": "stream",
          "name": "stdout",
          "text": [
            "Saved artifact at '/tmp/tmpdf4fkf5z'. The following endpoints are available:\n",
            "\n",
            "* Endpoint 'serve'\n",
            "  args_0 (POSITIONAL_ONLY): TensorSpec(shape=(None, 217, 19), dtype=tf.float32, name='keras_tensor_11')\n",
            "Output Type:\n",
            "  TensorSpec(shape=(None, 7), dtype=tf.float32, name=None)\n",
            "Captures:\n",
            "  140498844718992: TensorSpec(shape=(), dtype=tf.resource, name=None)\n",
            "  140498844724560: TensorSpec(shape=(), dtype=tf.resource, name=None)\n",
            "  140498844724944: TensorSpec(shape=(), dtype=tf.resource, name=None)\n",
            "  140498844724176: TensorSpec(shape=(), dtype=tf.resource, name=None)\n",
            "  140498844717072: TensorSpec(shape=(), dtype=tf.resource, name=None)\n",
            "  140498844724752: TensorSpec(shape=(), dtype=tf.resource, name=None)\n",
            "  140498844726480: TensorSpec(shape=(), dtype=tf.resource, name=None)\n",
            "  140498844727056: TensorSpec(shape=(), dtype=tf.resource, name=None)\n",
            "  140498844727248: TensorSpec(shape=(), dtype=tf.resource, name=None)\n",
            "  140498844726096: TensorSpec(shape=(), dtype=tf.resource, name=None)\n",
            "  140498844720912: TensorSpec(shape=(), dtype=tf.resource, name=None)\n",
            "  140498844726864: TensorSpec(shape=(), dtype=tf.resource, name=None)\n",
            "  140498844728784: TensorSpec(shape=(), dtype=tf.resource, name=None)\n",
            "  140498844728976: TensorSpec(shape=(), dtype=tf.resource, name=None)\n",
            "  140498844725328: TensorSpec(shape=(), dtype=tf.resource, name=None)\n",
            "  140498844727632: TensorSpec(shape=(), dtype=tf.resource, name=None)\n",
            "\n",
            "✅ Saved TensorFlow Lite model to: gesture_model_quantized.tflite\n"
          ]
        }
      ]
    },
    {
      "cell_type": "markdown",
      "source": [
        "## Convert .tflite to C array (for Arduino)"
      ],
      "metadata": {
        "id": "qNAhZ9l5mvB5"
      }
    },
    {
      "cell_type": "code",
      "source": [
        "with open(\"gesture_model_quantized.tflite\", \"rb\") as f:\n",
        "    data = f.read()\n",
        "\n",
        "hex_array = ', '.join(f'0x{b:02x}' for b in data)\n",
        "with open(\"gesture_model.cc\", \"w\") as f:\n",
        "    f.write(\"const unsigned char gesture_model_tflite[] = {\\n\" + hex_array + \"\\n};\\n\")\n",
        "    f.write(f\"unsigned int gesture_model_tflite_len = {len(data)};\")\n"
      ],
      "metadata": {
        "id": "Q3o7O4rWmroM"
      },
      "execution_count": 12,
      "outputs": []
    }
  ]
}