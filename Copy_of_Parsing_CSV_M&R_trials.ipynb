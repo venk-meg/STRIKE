{
  "nbformat": 4,
  "nbformat_minor": 0,
  "metadata": {
    "colab": {
      "provenance": [],
      "authorship_tag": "ABX9TyOIQGXgDQ3EgG8WqMKllfTb",
      "include_colab_link": true
    },
    "kernelspec": {
      "name": "python3",
      "display_name": "Python 3"
    },
    "language_info": {
      "name": "python"
    }
  },
  "cells": [
    {
      "cell_type": "markdown",
      "metadata": {
        "id": "view-in-github",
        "colab_type": "text"
      },
      "source": [
        "<a href=\"https://colab.research.google.com/github/venk-meg/STRIKE/blob/main/Copy_of_Parsing_CSV_M%26R_trials.ipynb\" target=\"_parent\"><img src=\"https://colab.research.google.com/assets/colab-badge.svg\" alt=\"Open In Colab\"/></a>"
      ]
    },
    {
      "cell_type": "markdown",
      "source": [
        "# STRIKE Gesture Data Processing\n",
        "\n",
        "This notebook processes gesture recognition data for multiple gestures captured during trials by Megha and Ria. The raw data is split into individual repetitions, saved as CSVs, and zipped for downstream analysis or model training.\n"
      ],
      "metadata": {
        "id": "c0LBGHghPWH2"
      }
    },
    {
      "cell_type": "code",
      "source": [
        "# Clone repo if not already cloned\n",
        "!git clone https://github.com/venk-meg/STRIKE.git\n",
        "%cd STRIKE\n",
        "\n",
        "# Imports\n",
        "import pandas as pd\n",
        "import os\n",
        "import glob\n",
        "from google.colab import files\n",
        "import zipfile\n",
        "\n",
        "# Constants\n",
        "GESTURE_NAMES = [\n",
        "    \"deleterecording\", \"listen\", \"makefist\",\n",
        "    \"nextrecording\", \"releasefist\", \"selectend\", \"slice\"\n",
        "]\n",
        "NUM_REPETITIONS = 10\n",
        "ZIP_FOLDER = \"parsed_gesture_data\"\n",
        "os.makedirs(ZIP_FOLDER, exist_ok=True)\n",
        "\n",
        "def process_gesture_data(input_template, suffix=\"\"):\n",
        "    \"\"\"\n",
        "    Splits gesture CSVs into individual repetitions and zips them.\n",
        "    \"\"\"\n",
        "    for gesture in GESTURE_NAMES:\n",
        "        input_file = input_template.format(gesture=gesture)\n",
        "        output_dir = f\"data_ml/{gesture}/split/\"\n",
        "        os.makedirs(output_dir, exist_ok=True)\n",
        "\n",
        "        # Load CSV\n",
        "        df = pd.read_csv(input_file)\n",
        "        timesteps = len(df) // NUM_REPETITIONS\n",
        "\n",
        "        # Split and save each repetition\n",
        "        for i in range(NUM_REPETITIONS):\n",
        "            start = i * timesteps\n",
        "            end = len(df) if i == NUM_REPETITIONS - 1 else start + timesteps\n",
        "            df_rep = df.iloc[start:end]\n",
        "\n",
        "            filename = f\"{gesture}_{i+1:02d}{suffix}.csv\"\n",
        "            df_rep.to_csv(os.path.join(output_dir, filename), index=False)\n",
        "\n",
        "        # Zip the split files\n",
        "        zip_path = os.path.join(ZIP_FOLDER, f\"{gesture}.zip\")\n",
        "        with zipfile.ZipFile(zip_path, 'w') as zipf:\n",
        "            for file in glob.glob(f\"{output_dir}/*.csv\"):\n",
        "                zipf.write(file, arcname=os.path.basename(file))\n",
        "\n",
        "# Process Megha's and Ria's gesture trials\n",
        "process_gesture_data(\"data_ml/{gesture}/trial_{gesture}_10x_25hz_M.csv\")\n",
        "process_gesture_data(\"data_ml/{gesture}/trial_{gesture}_10x_25hz_R.csv\", suffix=\"_R\")\n",
        "\n",
        "# Download all zip files\n",
        "for zip_file in glob.glob(f\"{ZIP_FOLDER}/*.zip\"):\n",
        "    files.download(zip_file)\n"
      ],
      "metadata": {
        "id": "M2c89jESPDDE"
      },
      "execution_count": null,
      "outputs": []
    }
  ]
}